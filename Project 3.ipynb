{
 "cells": [
  {
   "cell_type": "code",
   "execution_count": 1,
   "metadata": {},
   "outputs": [],
   "source": [
    " import warnings\n",
    "warnings.simplefilter('ignore')\n",
    "\n",
    "# %matplotlib inline\n",
    "import matplotlib.pyplot as plt\n",
    "import numpy as np\n",
    "import pandas as pd"
   ]
  },
  {
   "cell_type": "code",
   "execution_count": 2,
   "metadata": {},
   "outputs": [
    {
     "data": {
      "text/html": [
       "<div>\n",
       "<style scoped>\n",
       "    .dataframe tbody tr th:only-of-type {\n",
       "        vertical-align: middle;\n",
       "    }\n",
       "\n",
       "    .dataframe tbody tr th {\n",
       "        vertical-align: top;\n",
       "    }\n",
       "\n",
       "    .dataframe thead th {\n",
       "        text-align: right;\n",
       "    }\n",
       "</style>\n",
       "<table border=\"1\" class=\"dataframe\">\n",
       "  <thead>\n",
       "    <tr style=\"text-align: right;\">\n",
       "      <th></th>\n",
       "      <th>RD_NO</th>\n",
       "      <th>CRASH_DATE_EST_I</th>\n",
       "      <th>CRASH_DATE</th>\n",
       "      <th>POSTED_SPEED_LIMIT</th>\n",
       "      <th>TRAFFIC_CONTROL_DEVICE</th>\n",
       "      <th>DEVICE_CONDITION</th>\n",
       "      <th>WEATHER_CONDITION</th>\n",
       "      <th>LIGHTING_CONDITION</th>\n",
       "      <th>FIRST_CRASH_TYPE</th>\n",
       "      <th>TRAFFICWAY_TYPE</th>\n",
       "      <th>...</th>\n",
       "      <th>INJURIES_NON_INCAPACITATING</th>\n",
       "      <th>INJURIES_REPORTED_NOT_EVIDENT</th>\n",
       "      <th>INJURIES_NO_INDICATION</th>\n",
       "      <th>INJURIES_UNKNOWN</th>\n",
       "      <th>CRASH_HOUR</th>\n",
       "      <th>CRASH_DAY_OF_WEEK</th>\n",
       "      <th>CRASH_MONTH</th>\n",
       "      <th>LATITUDE</th>\n",
       "      <th>LONGITUDE</th>\n",
       "      <th>LOCATION</th>\n",
       "    </tr>\n",
       "  </thead>\n",
       "  <tbody>\n",
       "    <tr>\n",
       "      <th>0</th>\n",
       "      <td>JC334993</td>\n",
       "      <td>NaN</td>\n",
       "      <td>7/4/2019 22:33</td>\n",
       "      <td>45</td>\n",
       "      <td>NO CONTROLS</td>\n",
       "      <td>NO CONTROLS</td>\n",
       "      <td>CLEAR</td>\n",
       "      <td>1</td>\n",
       "      <td>REAR END</td>\n",
       "      <td>DIVIDED - W/MEDIAN BARRIER</td>\n",
       "      <td>...</td>\n",
       "      <td>NaN</td>\n",
       "      <td>NaN</td>\n",
       "      <td>NaN</td>\n",
       "      <td>NaN</td>\n",
       "      <td>22</td>\n",
       "      <td>5</td>\n",
       "      <td>7</td>\n",
       "      <td>41.886140</td>\n",
       "      <td>-87.614274</td>\n",
       "      <td>POINT (-87.614274106164 41.8861404879)</td>\n",
       "    </tr>\n",
       "    <tr>\n",
       "      <th>1</th>\n",
       "      <td>JC370822</td>\n",
       "      <td>NaN</td>\n",
       "      <td>7/30/2019 10:22</td>\n",
       "      <td>30</td>\n",
       "      <td>NO CONTROLS</td>\n",
       "      <td>NO CONTROLS</td>\n",
       "      <td>CLEAR</td>\n",
       "      <td>0</td>\n",
       "      <td>TURNING</td>\n",
       "      <td>DIVIDED - W/MEDIAN (NOT RAISED)</td>\n",
       "      <td>...</td>\n",
       "      <td>NaN</td>\n",
       "      <td>NaN</td>\n",
       "      <td>NaN</td>\n",
       "      <td>NaN</td>\n",
       "      <td>10</td>\n",
       "      <td>3</td>\n",
       "      <td>7</td>\n",
       "      <td>41.745549</td>\n",
       "      <td>-87.614670</td>\n",
       "      <td>POINT (-87.614669906271 41.745549113377)</td>\n",
       "    </tr>\n",
       "    <tr>\n",
       "      <th>2</th>\n",
       "      <td>JC387098</td>\n",
       "      <td>NaN</td>\n",
       "      <td>8/10/2019 17:00</td>\n",
       "      <td>25</td>\n",
       "      <td>NO CONTROLS</td>\n",
       "      <td>NO CONTROLS</td>\n",
       "      <td>CLEAR</td>\n",
       "      <td>0</td>\n",
       "      <td>PARKED MOTOR VEHICLE</td>\n",
       "      <td>ONE-WAY</td>\n",
       "      <td>...</td>\n",
       "      <td>NaN</td>\n",
       "      <td>NaN</td>\n",
       "      <td>NaN</td>\n",
       "      <td>NaN</td>\n",
       "      <td>17</td>\n",
       "      <td>7</td>\n",
       "      <td>8</td>\n",
       "      <td>41.772004</td>\n",
       "      <td>-87.581234</td>\n",
       "      <td>POINT (-87.58123401629 41.772004323752)</td>\n",
       "    </tr>\n",
       "    <tr>\n",
       "      <th>3</th>\n",
       "      <td>JC395195</td>\n",
       "      <td>NaN</td>\n",
       "      <td>8/16/2019 16:53</td>\n",
       "      <td>30</td>\n",
       "      <td>NO CONTROLS</td>\n",
       "      <td>NO CONTROLS</td>\n",
       "      <td>CLEAR</td>\n",
       "      <td>0</td>\n",
       "      <td>PARKED MOTOR VEHICLE</td>\n",
       "      <td>NOT DIVIDED</td>\n",
       "      <td>...</td>\n",
       "      <td>0.0</td>\n",
       "      <td>0.0</td>\n",
       "      <td>1.0</td>\n",
       "      <td>0.0</td>\n",
       "      <td>16</td>\n",
       "      <td>6</td>\n",
       "      <td>8</td>\n",
       "      <td>41.892327</td>\n",
       "      <td>-87.635742</td>\n",
       "      <td>POINT (-87.635741843096 41.89232650689)</td>\n",
       "    </tr>\n",
       "    <tr>\n",
       "      <th>4</th>\n",
       "      <td>JC396604</td>\n",
       "      <td>NaN</td>\n",
       "      <td>8/17/2019 16:04</td>\n",
       "      <td>30</td>\n",
       "      <td>NO CONTROLS</td>\n",
       "      <td>NO CONTROLS</td>\n",
       "      <td>CLEAR</td>\n",
       "      <td>0</td>\n",
       "      <td>PARKED MOTOR VEHICLE</td>\n",
       "      <td>PARKING LOT</td>\n",
       "      <td>...</td>\n",
       "      <td>0.0</td>\n",
       "      <td>0.0</td>\n",
       "      <td>1.0</td>\n",
       "      <td>0.0</td>\n",
       "      <td>16</td>\n",
       "      <td>7</td>\n",
       "      <td>8</td>\n",
       "      <td>41.948637</td>\n",
       "      <td>-87.688458</td>\n",
       "      <td>POINT (-87.688457506457 41.948636883802)</td>\n",
       "    </tr>\n",
       "  </tbody>\n",
       "</table>\n",
       "<p>5 rows × 48 columns</p>\n",
       "</div>"
      ],
      "text/plain": [
       "      RD_NO CRASH_DATE_EST_I       CRASH_DATE  POSTED_SPEED_LIMIT  \\\n",
       "0  JC334993              NaN   7/4/2019 22:33                  45   \n",
       "1  JC370822              NaN  7/30/2019 10:22                  30   \n",
       "2  JC387098              NaN  8/10/2019 17:00                  25   \n",
       "3  JC395195              NaN  8/16/2019 16:53                  30   \n",
       "4  JC396604              NaN  8/17/2019 16:04                  30   \n",
       "\n",
       "  TRAFFIC_CONTROL_DEVICE DEVICE_CONDITION WEATHER_CONDITION  \\\n",
       "0            NO CONTROLS      NO CONTROLS             CLEAR   \n",
       "1            NO CONTROLS      NO CONTROLS             CLEAR   \n",
       "2            NO CONTROLS      NO CONTROLS             CLEAR   \n",
       "3            NO CONTROLS      NO CONTROLS             CLEAR   \n",
       "4            NO CONTROLS      NO CONTROLS             CLEAR   \n",
       "\n",
       "   LIGHTING_CONDITION      FIRST_CRASH_TYPE                  TRAFFICWAY_TYPE  \\\n",
       "0                   1              REAR END       DIVIDED - W/MEDIAN BARRIER   \n",
       "1                   0               TURNING  DIVIDED - W/MEDIAN (NOT RAISED)   \n",
       "2                   0  PARKED MOTOR VEHICLE                          ONE-WAY   \n",
       "3                   0  PARKED MOTOR VEHICLE                      NOT DIVIDED   \n",
       "4                   0  PARKED MOTOR VEHICLE                      PARKING LOT   \n",
       "\n",
       "   ... INJURIES_NON_INCAPACITATING INJURIES_REPORTED_NOT_EVIDENT  \\\n",
       "0  ...                         NaN                           NaN   \n",
       "1  ...                         NaN                           NaN   \n",
       "2  ...                         NaN                           NaN   \n",
       "3  ...                         0.0                           0.0   \n",
       "4  ...                         0.0                           0.0   \n",
       "\n",
       "  INJURIES_NO_INDICATION INJURIES_UNKNOWN CRASH_HOUR  CRASH_DAY_OF_WEEK  \\\n",
       "0                    NaN              NaN         22                  5   \n",
       "1                    NaN              NaN         10                  3   \n",
       "2                    NaN              NaN         17                  7   \n",
       "3                    1.0              0.0         16                  6   \n",
       "4                    1.0              0.0         16                  7   \n",
       "\n",
       "  CRASH_MONTH   LATITUDE  LONGITUDE                                  LOCATION  \n",
       "0           7  41.886140 -87.614274    POINT (-87.614274106164 41.8861404879)  \n",
       "1           7  41.745549 -87.614670  POINT (-87.614669906271 41.745549113377)  \n",
       "2           8  41.772004 -87.581234   POINT (-87.58123401629 41.772004323752)  \n",
       "3           8  41.892327 -87.635742   POINT (-87.635741843096 41.89232650689)  \n",
       "4           8  41.948637 -87.688458  POINT (-87.688457506457 41.948636883802)  \n",
       "\n",
       "[5 rows x 48 columns]"
      ]
     },
     "execution_count": 2,
     "metadata": {},
     "output_type": "execute_result"
    }
   ],
   "source": [
    "crashes = pd.read_csv('traffic_crashes.csv')\n",
    "crashes.head()"
   ]
  },
  {
   "cell_type": "code",
   "execution_count": 3,
   "metadata": {},
   "outputs": [
    {
     "data": {
      "text/html": [
       "<div>\n",
       "<style scoped>\n",
       "    .dataframe tbody tr th:only-of-type {\n",
       "        vertical-align: middle;\n",
       "    }\n",
       "\n",
       "    .dataframe tbody tr th {\n",
       "        vertical-align: top;\n",
       "    }\n",
       "\n",
       "    .dataframe thead th {\n",
       "        text-align: right;\n",
       "    }\n",
       "</style>\n",
       "<table border=\"1\" class=\"dataframe\">\n",
       "  <thead>\n",
       "    <tr style=\"text-align: right;\">\n",
       "      <th></th>\n",
       "      <th>CRASH_DATE</th>\n",
       "      <th>TRAFFICWAY_TYPE</th>\n",
       "      <th>ROADWAY_SURFACE_COND</th>\n",
       "      <th>LIGHTING_CONDITION</th>\n",
       "      <th>POSTED_SPEED_LIMIT</th>\n",
       "      <th>ROAD_DEFECT</th>\n",
       "      <th>MOST_SEVERE_INJURY</th>\n",
       "      <th>INJURIES_FATAL</th>\n",
       "      <th>DAMAGE</th>\n",
       "      <th>CRASH_HOUR</th>\n",
       "      <th>CRASH_TYPE</th>\n",
       "    </tr>\n",
       "  </thead>\n",
       "  <tbody>\n",
       "    <tr>\n",
       "      <th>0</th>\n",
       "      <td>7/4/2019 22:33</td>\n",
       "      <td>DIVIDED - W/MEDIAN BARRIER</td>\n",
       "      <td>DRY</td>\n",
       "      <td>1</td>\n",
       "      <td>45</td>\n",
       "      <td>NO DEFECTS</td>\n",
       "      <td>NaN</td>\n",
       "      <td>0</td>\n",
       "      <td>1</td>\n",
       "      <td>22</td>\n",
       "      <td>0</td>\n",
       "    </tr>\n",
       "    <tr>\n",
       "      <th>1</th>\n",
       "      <td>7/30/2019 10:22</td>\n",
       "      <td>DIVIDED - W/MEDIAN (NOT RAISED)</td>\n",
       "      <td>DRY</td>\n",
       "      <td>0</td>\n",
       "      <td>30</td>\n",
       "      <td>NO DEFECTS</td>\n",
       "      <td>NaN</td>\n",
       "      <td>0</td>\n",
       "      <td>1</td>\n",
       "      <td>10</td>\n",
       "      <td>0</td>\n",
       "    </tr>\n",
       "    <tr>\n",
       "      <th>2</th>\n",
       "      <td>8/10/2019 17:00</td>\n",
       "      <td>ONE-WAY</td>\n",
       "      <td>DRY</td>\n",
       "      <td>0</td>\n",
       "      <td>25</td>\n",
       "      <td>NO DEFECTS</td>\n",
       "      <td>NaN</td>\n",
       "      <td>0</td>\n",
       "      <td>0</td>\n",
       "      <td>17</td>\n",
       "      <td>0</td>\n",
       "    </tr>\n",
       "    <tr>\n",
       "      <th>3</th>\n",
       "      <td>8/16/2019 16:53</td>\n",
       "      <td>NOT DIVIDED</td>\n",
       "      <td>DRY</td>\n",
       "      <td>0</td>\n",
       "      <td>30</td>\n",
       "      <td>NO DEFECTS</td>\n",
       "      <td>NO INDICATION OF INJURY</td>\n",
       "      <td>0</td>\n",
       "      <td>0</td>\n",
       "      <td>16</td>\n",
       "      <td>0</td>\n",
       "    </tr>\n",
       "    <tr>\n",
       "      <th>4</th>\n",
       "      <td>8/17/2019 16:04</td>\n",
       "      <td>PARKING LOT</td>\n",
       "      <td>DRY</td>\n",
       "      <td>0</td>\n",
       "      <td>30</td>\n",
       "      <td>NO DEFECTS</td>\n",
       "      <td>NO INDICATION OF INJURY</td>\n",
       "      <td>0</td>\n",
       "      <td>0</td>\n",
       "      <td>16</td>\n",
       "      <td>0</td>\n",
       "    </tr>\n",
       "  </tbody>\n",
       "</table>\n",
       "</div>"
      ],
      "text/plain": [
       "        CRASH_DATE                  TRAFFICWAY_TYPE ROADWAY_SURFACE_COND  \\\n",
       "0   7/4/2019 22:33       DIVIDED - W/MEDIAN BARRIER                  DRY   \n",
       "1  7/30/2019 10:22  DIVIDED - W/MEDIAN (NOT RAISED)                  DRY   \n",
       "2  8/10/2019 17:00                          ONE-WAY                  DRY   \n",
       "3  8/16/2019 16:53                      NOT DIVIDED                  DRY   \n",
       "4  8/17/2019 16:04                      PARKING LOT                  DRY   \n",
       "\n",
       "   LIGHTING_CONDITION  POSTED_SPEED_LIMIT ROAD_DEFECT  \\\n",
       "0                   1                  45  NO DEFECTS   \n",
       "1                   0                  30  NO DEFECTS   \n",
       "2                   0                  25  NO DEFECTS   \n",
       "3                   0                  30  NO DEFECTS   \n",
       "4                   0                  30  NO DEFECTS   \n",
       "\n",
       "        MOST_SEVERE_INJURY  INJURIES_FATAL  DAMAGE  CRASH_HOUR  CRASH_TYPE  \n",
       "0                      NaN               0       1          22           0  \n",
       "1                      NaN               0       1          10           0  \n",
       "2                      NaN               0       0          17           0  \n",
       "3  NO INDICATION OF INJURY               0       0          16           0  \n",
       "4  NO INDICATION OF INJURY               0       0          16           0  "
      ]
     },
     "execution_count": 3,
     "metadata": {},
     "output_type": "execute_result"
    }
   ],
   "source": [
    "crashes = crashes[[\"CRASH_DATE\",\"TRAFFICWAY_TYPE\", \"ROADWAY_SURFACE_COND\", \"LIGHTING_CONDITION\", \"POSTED_SPEED_LIMIT\", \"ROAD_DEFECT\", \"MOST_SEVERE_INJURY\", \"INJURIES_FATAL\", \"DAMAGE\", \"CRASH_HOUR\", \"CRASH_TYPE\"]].copy()\n",
    "crashes.head()"
   ]
  },
  {
   "cell_type": "code",
   "execution_count": 43,
   "metadata": {},
   "outputs": [
    {
     "name": "stdout",
     "output_type": "stream",
     "text": [
      "(350845, 1) (350845, 1)\n"
     ]
    }
   ],
   "source": [
    "x = crashes[[\"DAMAGE\"]]\n",
    "y = crashes[\"CRASH_TYPE\"].values.reshape(-1,1)\n",
    "print(x.shape, y.shape)"
   ]
  },
  {
   "cell_type": "code",
   "execution_count": 44,
   "metadata": {},
   "outputs": [],
   "source": [
    "from sklearn.model_selection import train_test_split\n",
    "\n",
    "x_train, x_test, y_train, y_test = train_test_split(x, y, random_state=25)"
   ]
  },
  {
   "cell_type": "code",
   "execution_count": 45,
   "metadata": {},
   "outputs": [],
   "source": [
    "from sklearn.linear_model import LinearRegression\n",
    "model = LinearRegression()"
   ]
  },
  {
   "cell_type": "code",
   "execution_count": 46,
   "metadata": {},
   "outputs": [
    {
     "name": "stdout",
     "output_type": "stream",
     "text": [
      "0.05249058972649168\n",
      "0.05249058972649168\n"
     ]
    }
   ],
   "source": [
    "model.fit(x_train, y_train)\n",
    "training_score = model.score(x_train, y_train)\n",
    "testing_score = model.score(x_train, y_train)\n",
    "\n",
    "print(training_score)\n",
    "print(testing_score)"
   ]
  },
  {
   "cell_type": "code",
   "execution_count": 47,
   "metadata": {},
   "outputs": [
    {
     "data": {
      "image/png": "[encoded data removed]",
      "text/plain": [
       "<Figure size 432x288 with 1 Axes>"
      ]
     },
     "metadata": {
      "needs_background": "light"
     },
     "output_type": "display_data"
    }
   ],
   "source": [
    "plt.scatter(model.predict(x_train), model.predict(x_train) - y_train, c=\"blue\", label=\"Training Data\")\n",
    "plt.scatter(model.predict(x_test), model.predict(x_test) - y_test, c=\"orange\", label=\"Testing Data\")\n",
    "plt.legend()\n",
    "plt.hlines(y=0, xmin=y.min(), xmax=y.max())\n",
    "plt.title(\"Residual Plot\")\n",
    "plt.show\n",
    "plt.savefig(\"Residual Plot Crash Hour and Crash Type vs. Speed Limit.png\")"
   ]
  },
  {
   "cell_type": "code",
   "execution_count": 48,
   "metadata": {},
   "outputs": [],
   "source": [
    " from sklearn.preprocessing import StandardScaler\n",
    "\n",
    "# Create a StandardScater model and fit it to the training data\n",
    "\n",
    "### BEGIN SOLUTION\n",
    "x_scaler = StandardScaler().fit(x_train)\n",
    "y_scaler = StandardScaler().fit(y_train)"
   ]
  },
  {
   "cell_type": "code",
   "execution_count": 49,
   "metadata": {},
   "outputs": [],
   "source": [
    "x_train_scaled = x_scaler.transform(x_train)\n",
    "x_test_scaled = x_scaler.transform(x_test)\n",
    "y_train_scaled = y_scaler.transform(y_train)\n",
    "y_test_scaled = y_scaler.transform(y_test)"
   ]
  },
  {
   "cell_type": "code",
   "execution_count": 50,
   "metadata": {},
   "outputs": [
    {
     "name": "stdout",
     "output_type": "stream",
     "text": [
      "MSE: 0.9589939617058292, R2: 0.036061124497871355\n"
     ]
    }
   ],
   "source": [
    "from sklearn.metrics import mean_squared_error\n",
    "predictions = model.predict(x_test_scaled)\n",
    "MSE = mean_squared_error(y_test_scaled, predictions)\n",
    "r2 = model.score(x_test_scaled, y_test_scaled)\n",
    "### END SOLUTION\n",
    "\n",
    "print(f\"MSE: {MSE}, R2: {r2}\")"
   ]
  },
  {
   "cell_type": "code",
   "execution_count": 51,
   "metadata": {},
   "outputs": [
    {
     "name": "stdout",
     "output_type": "stream",
     "text": [
      "MSE: 0.9436480306896176, R2: 0.05148618458999931\n"
     ]
    }
   ],
   "source": [
    "from sklearn.linear_model import Lasso\n",
    "\n",
    "### BEGIN SOLUTION\n",
    "lasso = Lasso(alpha=.01).fit(x_train_scaled, y_train_scaled)\n",
    "\n",
    "predictions = lasso.predict(x_test_scaled)\n",
    "\n",
    "MSE = mean_squared_error(y_test_scaled, predictions)\n",
    "r2 = lasso.score(x_test_scaled, y_test_scaled)\n",
    "### END SOLUTION\n",
    "\n",
    "print(f\"MSE: {MSE}, R2: {r2}\")"
   ]
  },
  {
   "cell_type": "code",
   "execution_count": 52,
   "metadata": {},
   "outputs": [
    {
     "name": "stdout",
     "output_type": "stream",
     "text": [
      "MSE: 0.9436040911819464, R2: 0.05153035066539269\n"
     ]
    }
   ],
   "source": [
    "from sklearn.linear_model import Ridge\n",
    "\n",
    "### BEGIN SOLUTION\n",
    "ridge = Ridge(alpha=.01).fit(x_train_scaled, y_train_scaled)\n",
    "\n",
    "predictions = ridge.predict(x_test_scaled)\n",
    "\n",
    "MSE = mean_squared_error(y_test_scaled, predictions)\n",
    "r2 = ridge.score(x_test_scaled, y_test_scaled)\n",
    "### END SOLUTION\n",
    "\n",
    "print(f\"MSE: {MSE}, R2: {r2}\")"
   ]
  },
  {
   "cell_type": "code",
   "execution_count": 53,
   "metadata": {},
   "outputs": [
    {
     "name": "stdout",
     "output_type": "stream",
     "text": [
      "MSE: 0.9436071677464759, R2: 0.05152725823700278\n"
     ]
    }
   ],
   "source": [
    "from sklearn.linear_model import ElasticNet\n",
    "\n",
    "### BEGIN SOLUTION\n",
    "elasticnet = ElasticNet(alpha=.01).fit(x_train_scaled, y_train_scaled)\n",
    "\n",
    "predictions = elasticnet.predict(x_test_scaled)\n",
    "\n",
    "MSE = mean_squared_error(y_test_scaled, predictions)\n",
    "r2 = elasticnet.score(x_test_scaled, y_test_scaled)\n",
    "### END SOLUTION\n",
    "\n",
    "print(f\"MSE: {MSE}, R2: {r2}\")"
   ]
  },
  {
   "cell_type": "code",
   "execution_count": 54,
   "metadata": {},
   "outputs": [
    {
     "name": "stdout",
     "output_type": "stream",
     "text": [
      "MSE: 0.9436028559863013, R2: 0.052254989827824616\n"
     ]
    }
   ],
   "source": [
    "from sklearn.linear_model import LassoCV\n",
    "\n",
    "### BEGIN SOLUTION\n",
    "lasso = LassoCV(cv=5).fit(x_train_scaled, y_train_scaled)\n",
    "\n",
    "predictions = lasso.predict(x_test_scaled)\n",
    "reg = LassoCV(cv=5, random_state=0).fit(x,y)\n",
    "MSE = mean_squared_error(y_test_scaled, predictions)\n",
    "r2 = reg.score(x, y)\n",
    "### END SOLUTION\n",
    "\n",
    "print(f\"MSE: {MSE}, R2: {r2}\")"
   ]
  },
  {
   "cell_type": "code",
   "execution_count": 55,
   "metadata": {},
   "outputs": [
    {
     "name": "stdout",
     "output_type": "stream",
     "text": [
      "MSE: 0.9436028559863013, R2: 0.0522550420828668\n"
     ]
    }
   ],
   "source": [
    "from sklearn.linear_model import LassoLarsCV\n",
    "\n",
    "### BEGIN SOLUTION\n",
    "lasso = LassoLarsCV(cv=5).fit(x_train_scaled, y_train_scaled)\n",
    "\n",
    "reg = LassoLarsCV(cv=5).fit(x,y)\n",
    "MSE = mean_squared_error(y_test_scaled, predictions)\n",
    "r2 = reg.score(x, y)\n",
    "### END SOLUTION\n",
    "\n",
    "print(f\"MSE: {MSE}, R2: {r2}\")"
   ]
  },
  {
   "cell_type": "code",
   "execution_count": null,
   "metadata": {},
   "outputs": [],
   "source": []
  }
 ],
 "metadata": {
  "kernelspec": {
   "display_name": "Python 3",
   "language": "python",
   "name": "python3"
  },
  "language_info": {
   "codemirror_mode": {
    "name": "ipython",
    "version": 3
   },
   "file_extension": ".py",
   "mimetype": "text/x-python",
   "name": "python",
   "nbconvert_exporter": "python",
   "pygments_lexer": "ipython3",
   "version": "3.7.4"
  }
 },
 "nbformat": 4,
 "nbformat_minor": 2
}
