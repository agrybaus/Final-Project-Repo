{
 "cells": [
  {
   "cell_type": "code",
   "execution_count": 5,
   "metadata": {},
   "outputs": [],
   "source": [
    "import warnings\n",
    "warnings.simplefilter('ignore')\n",
    "\n",
    "# %matplotlib inline\n",
    "import matplotlib.pyplot as plt\n",
    "import numpy as np\n",
    "import pandas as pd"
   ]
  },
  {
   "cell_type": "code",
   "execution_count": 6,
   "metadata": {},
   "outputs": [
    {
     "data": {
      "text/html": [
       "<div>\n",
       "<style scoped>\n",
       "    .dataframe tbody tr th:only-of-type {\n",
       "        vertical-align: middle;\n",
       "    }\n",
       "\n",
       "    .dataframe tbody tr th {\n",
       "        vertical-align: top;\n",
       "    }\n",
       "\n",
       "    .dataframe thead th {\n",
       "        text-align: right;\n",
       "    }\n",
       "</style>\n",
       "<table border=\"1\" class=\"dataframe\">\n",
       "  <thead>\n",
       "    <tr style=\"text-align: right;\">\n",
       "      <th></th>\n",
       "      <th>RD_NO</th>\n",
       "      <th>CRASH_DATE_EST_I</th>\n",
       "      <th>CRASH_DATE</th>\n",
       "      <th>POSTED_SPEED_LIMIT</th>\n",
       "      <th>TRAFFIC_CONTROL_DEVICE</th>\n",
       "      <th>DEVICE_CONDITION</th>\n",
       "      <th>WEATHER_CONDITION</th>\n",
       "      <th>LIGHTING_CONDITION</th>\n",
       "      <th>FIRST_CRASH_TYPE</th>\n",
       "      <th>TRAFFICWAY_TYPE</th>\n",
       "      <th>...</th>\n",
       "      <th>INJURIES_NON_INCAPACITATING</th>\n",
       "      <th>INJURIES_REPORTED_NOT_EVIDENT</th>\n",
       "      <th>INJURIES_NO_INDICATION</th>\n",
       "      <th>INJURIES_UNKNOWN</th>\n",
       "      <th>CRASH_HOUR</th>\n",
       "      <th>CRASH_DAY_OF_WEEK</th>\n",
       "      <th>CRASH_MONTH</th>\n",
       "      <th>LATITUDE</th>\n",
       "      <th>LONGITUDE</th>\n",
       "      <th>LOCATION</th>\n",
       "    </tr>\n",
       "  </thead>\n",
       "  <tbody>\n",
       "    <tr>\n",
       "      <th>0</th>\n",
       "      <td>JC334993</td>\n",
       "      <td>NaN</td>\n",
       "      <td>07/04/2019 10:33:00 PM</td>\n",
       "      <td>45</td>\n",
       "      <td>NO CONTROLS</td>\n",
       "      <td>NO CONTROLS</td>\n",
       "      <td>CLEAR</td>\n",
       "      <td>DARKNESS, LIGHTED ROAD</td>\n",
       "      <td>REAR END</td>\n",
       "      <td>DIVIDED - W/MEDIAN BARRIER</td>\n",
       "      <td>...</td>\n",
       "      <td>NaN</td>\n",
       "      <td>NaN</td>\n",
       "      <td>NaN</td>\n",
       "      <td>NaN</td>\n",
       "      <td>22</td>\n",
       "      <td>5</td>\n",
       "      <td>7</td>\n",
       "      <td>41.886140</td>\n",
       "      <td>-87.614274</td>\n",
       "      <td>POINT (-87.614274106164 41.8861404879)</td>\n",
       "    </tr>\n",
       "    <tr>\n",
       "      <th>1</th>\n",
       "      <td>JC370822</td>\n",
       "      <td>NaN</td>\n",
       "      <td>07/30/2019 10:22:00 AM</td>\n",
       "      <td>30</td>\n",
       "      <td>NO CONTROLS</td>\n",
       "      <td>NO CONTROLS</td>\n",
       "      <td>CLEAR</td>\n",
       "      <td>DAYLIGHT</td>\n",
       "      <td>TURNING</td>\n",
       "      <td>DIVIDED - W/MEDIAN (NOT RAISED)</td>\n",
       "      <td>...</td>\n",
       "      <td>NaN</td>\n",
       "      <td>NaN</td>\n",
       "      <td>NaN</td>\n",
       "      <td>NaN</td>\n",
       "      <td>10</td>\n",
       "      <td>3</td>\n",
       "      <td>7</td>\n",
       "      <td>41.745549</td>\n",
       "      <td>-87.614670</td>\n",
       "      <td>POINT (-87.614669906271 41.745549113377)</td>\n",
       "    </tr>\n",
       "    <tr>\n",
       "      <th>2</th>\n",
       "      <td>JC387098</td>\n",
       "      <td>NaN</td>\n",
       "      <td>08/10/2019 05:00:00 PM</td>\n",
       "      <td>25</td>\n",
       "      <td>NO CONTROLS</td>\n",
       "      <td>NO CONTROLS</td>\n",
       "      <td>CLEAR</td>\n",
       "      <td>DAYLIGHT</td>\n",
       "      <td>PARKED MOTOR VEHICLE</td>\n",
       "      <td>ONE-WAY</td>\n",
       "      <td>...</td>\n",
       "      <td>NaN</td>\n",
       "      <td>NaN</td>\n",
       "      <td>NaN</td>\n",
       "      <td>NaN</td>\n",
       "      <td>17</td>\n",
       "      <td>7</td>\n",
       "      <td>8</td>\n",
       "      <td>41.772004</td>\n",
       "      <td>-87.581234</td>\n",
       "      <td>POINT (-87.58123401629 41.772004323752)</td>\n",
       "    </tr>\n",
       "    <tr>\n",
       "      <th>3</th>\n",
       "      <td>JC395195</td>\n",
       "      <td>NaN</td>\n",
       "      <td>08/16/2019 04:53:00 PM</td>\n",
       "      <td>30</td>\n",
       "      <td>NO CONTROLS</td>\n",
       "      <td>NO CONTROLS</td>\n",
       "      <td>CLEAR</td>\n",
       "      <td>DAYLIGHT</td>\n",
       "      <td>PARKED MOTOR VEHICLE</td>\n",
       "      <td>NOT DIVIDED</td>\n",
       "      <td>...</td>\n",
       "      <td>0.0</td>\n",
       "      <td>0.0</td>\n",
       "      <td>1.0</td>\n",
       "      <td>0.0</td>\n",
       "      <td>16</td>\n",
       "      <td>6</td>\n",
       "      <td>8</td>\n",
       "      <td>41.892327</td>\n",
       "      <td>-87.635742</td>\n",
       "      <td>POINT (-87.635741843096 41.89232650689)</td>\n",
       "    </tr>\n",
       "    <tr>\n",
       "      <th>4</th>\n",
       "      <td>JC396604</td>\n",
       "      <td>NaN</td>\n",
       "      <td>08/17/2019 04:04:00 PM</td>\n",
       "      <td>30</td>\n",
       "      <td>NO CONTROLS</td>\n",
       "      <td>NO CONTROLS</td>\n",
       "      <td>CLEAR</td>\n",
       "      <td>DAYLIGHT</td>\n",
       "      <td>PARKED MOTOR VEHICLE</td>\n",
       "      <td>PARKING LOT</td>\n",
       "      <td>...</td>\n",
       "      <td>0.0</td>\n",
       "      <td>0.0</td>\n",
       "      <td>1.0</td>\n",
       "      <td>0.0</td>\n",
       "      <td>16</td>\n",
       "      <td>7</td>\n",
       "      <td>8</td>\n",
       "      <td>41.948637</td>\n",
       "      <td>-87.688458</td>\n",
       "      <td>POINT (-87.688457506457 41.948636883802)</td>\n",
       "    </tr>\n",
       "  </tbody>\n",
       "</table>\n",
       "<p>5 rows × 48 columns</p>\n",
       "</div>"
      ],
      "text/plain": [
       "      RD_NO CRASH_DATE_EST_I              CRASH_DATE  POSTED_SPEED_LIMIT  \\\n",
       "0  JC334993              NaN  07/04/2019 10:33:00 PM                  45   \n",
       "1  JC370822              NaN  07/30/2019 10:22:00 AM                  30   \n",
       "2  JC387098              NaN  08/10/2019 05:00:00 PM                  25   \n",
       "3  JC395195              NaN  08/16/2019 04:53:00 PM                  30   \n",
       "4  JC396604              NaN  08/17/2019 04:04:00 PM                  30   \n",
       "\n",
       "  TRAFFIC_CONTROL_DEVICE DEVICE_CONDITION WEATHER_CONDITION  \\\n",
       "0            NO CONTROLS      NO CONTROLS             CLEAR   \n",
       "1            NO CONTROLS      NO CONTROLS             CLEAR   \n",
       "2            NO CONTROLS      NO CONTROLS             CLEAR   \n",
       "3            NO CONTROLS      NO CONTROLS             CLEAR   \n",
       "4            NO CONTROLS      NO CONTROLS             CLEAR   \n",
       "\n",
       "       LIGHTING_CONDITION      FIRST_CRASH_TYPE  \\\n",
       "0  DARKNESS, LIGHTED ROAD              REAR END   \n",
       "1                DAYLIGHT               TURNING   \n",
       "2                DAYLIGHT  PARKED MOTOR VEHICLE   \n",
       "3                DAYLIGHT  PARKED MOTOR VEHICLE   \n",
       "4                DAYLIGHT  PARKED MOTOR VEHICLE   \n",
       "\n",
       "                   TRAFFICWAY_TYPE  ...  INJURIES_NON_INCAPACITATING  \\\n",
       "0       DIVIDED - W/MEDIAN BARRIER  ...                          NaN   \n",
       "1  DIVIDED - W/MEDIAN (NOT RAISED)  ...                          NaN   \n",
       "2                          ONE-WAY  ...                          NaN   \n",
       "3                      NOT DIVIDED  ...                          0.0   \n",
       "4                      PARKING LOT  ...                          0.0   \n",
       "\n",
       "  INJURIES_REPORTED_NOT_EVIDENT INJURIES_NO_INDICATION INJURIES_UNKNOWN  \\\n",
       "0                           NaN                    NaN              NaN   \n",
       "1                           NaN                    NaN              NaN   \n",
       "2                           NaN                    NaN              NaN   \n",
       "3                           0.0                    1.0              0.0   \n",
       "4                           0.0                    1.0              0.0   \n",
       "\n",
       "  CRASH_HOUR CRASH_DAY_OF_WEEK CRASH_MONTH   LATITUDE  LONGITUDE  \\\n",
       "0         22                 5           7  41.886140 -87.614274   \n",
       "1         10                 3           7  41.745549 -87.614670   \n",
       "2         17                 7           8  41.772004 -87.581234   \n",
       "3         16                 6           8  41.892327 -87.635742   \n",
       "4         16                 7           8  41.948637 -87.688458   \n",
       "\n",
       "                                   LOCATION  \n",
       "0    POINT (-87.614274106164 41.8861404879)  \n",
       "1  POINT (-87.614669906271 41.745549113377)  \n",
       "2   POINT (-87.58123401629 41.772004323752)  \n",
       "3   POINT (-87.635741843096 41.89232650689)  \n",
       "4  POINT (-87.688457506457 41.948636883802)  \n",
       "\n",
       "[5 rows x 48 columns]"
      ]
     },
     "execution_count": 6,
     "metadata": {},
     "output_type": "execute_result"
    }
   ],
   "source": [
    "crashes = pd.read_csv('traffic_crashes.csv')\n",
    "crashes.head()"
   ]
  },
  {
   "cell_type": "code",
   "execution_count": 7,
   "metadata": {},
   "outputs": [
    {
     "data": {
      "text/html": [
       "<div>\n",
       "<style scoped>\n",
       "    .dataframe tbody tr th:only-of-type {\n",
       "        vertical-align: middle;\n",
       "    }\n",
       "\n",
       "    .dataframe tbody tr th {\n",
       "        vertical-align: top;\n",
       "    }\n",
       "\n",
       "    .dataframe thead th {\n",
       "        text-align: right;\n",
       "    }\n",
       "</style>\n",
       "<table border=\"1\" class=\"dataframe\">\n",
       "  <thead>\n",
       "    <tr style=\"text-align: right;\">\n",
       "      <th></th>\n",
       "      <th>CRASH_DATE</th>\n",
       "      <th>TRAFFICWAY_TYPE</th>\n",
       "      <th>ROADWAY_SURFACE_COND</th>\n",
       "      <th>LIGHTING_CONDITION</th>\n",
       "      <th>POSTED_SPEED_LIMIT</th>\n",
       "      <th>ROAD_DEFECT</th>\n",
       "      <th>MOST_SEVERE_INJURY</th>\n",
       "      <th>INJURIES_FATAL</th>\n",
       "      <th>DAMAGE</th>\n",
       "      <th>CRASH_HOUR</th>\n",
       "      <th>CRASH_TYPE</th>\n",
       "    </tr>\n",
       "  </thead>\n",
       "  <tbody>\n",
       "    <tr>\n",
       "      <th>0</th>\n",
       "      <td>07/04/2019 10:33:00 PM</td>\n",
       "      <td>DIVIDED - W/MEDIAN BARRIER</td>\n",
       "      <td>DRY</td>\n",
       "      <td>DARKNESS, LIGHTED ROAD</td>\n",
       "      <td>45</td>\n",
       "      <td>NO DEFECTS</td>\n",
       "      <td>NaN</td>\n",
       "      <td>NaN</td>\n",
       "      <td>OVER $1,500</td>\n",
       "      <td>22</td>\n",
       "      <td>NO INJURY / DRIVE AWAY</td>\n",
       "    </tr>\n",
       "    <tr>\n",
       "      <th>1</th>\n",
       "      <td>07/30/2019 10:22:00 AM</td>\n",
       "      <td>DIVIDED - W/MEDIAN (NOT RAISED)</td>\n",
       "      <td>DRY</td>\n",
       "      <td>DAYLIGHT</td>\n",
       "      <td>30</td>\n",
       "      <td>NO DEFECTS</td>\n",
       "      <td>NaN</td>\n",
       "      <td>NaN</td>\n",
       "      <td>OVER $1,500</td>\n",
       "      <td>10</td>\n",
       "      <td>NO INJURY / DRIVE AWAY</td>\n",
       "    </tr>\n",
       "    <tr>\n",
       "      <th>2</th>\n",
       "      <td>08/10/2019 05:00:00 PM</td>\n",
       "      <td>ONE-WAY</td>\n",
       "      <td>DRY</td>\n",
       "      <td>DAYLIGHT</td>\n",
       "      <td>25</td>\n",
       "      <td>NO DEFECTS</td>\n",
       "      <td>NaN</td>\n",
       "      <td>NaN</td>\n",
       "      <td>$501 - $1,500</td>\n",
       "      <td>17</td>\n",
       "      <td>NO INJURY / DRIVE AWAY</td>\n",
       "    </tr>\n",
       "    <tr>\n",
       "      <th>3</th>\n",
       "      <td>08/16/2019 04:53:00 PM</td>\n",
       "      <td>NOT DIVIDED</td>\n",
       "      <td>DRY</td>\n",
       "      <td>DAYLIGHT</td>\n",
       "      <td>30</td>\n",
       "      <td>NO DEFECTS</td>\n",
       "      <td>NO INDICATION OF INJURY</td>\n",
       "      <td>0.0</td>\n",
       "      <td>$501 - $1,500</td>\n",
       "      <td>16</td>\n",
       "      <td>NO INJURY / DRIVE AWAY</td>\n",
       "    </tr>\n",
       "    <tr>\n",
       "      <th>4</th>\n",
       "      <td>08/17/2019 04:04:00 PM</td>\n",
       "      <td>PARKING LOT</td>\n",
       "      <td>DRY</td>\n",
       "      <td>DAYLIGHT</td>\n",
       "      <td>30</td>\n",
       "      <td>NO DEFECTS</td>\n",
       "      <td>NO INDICATION OF INJURY</td>\n",
       "      <td>0.0</td>\n",
       "      <td>$501 - $1,500</td>\n",
       "      <td>16</td>\n",
       "      <td>NO INJURY / DRIVE AWAY</td>\n",
       "    </tr>\n",
       "  </tbody>\n",
       "</table>\n",
       "</div>"
      ],
      "text/plain": [
       "               CRASH_DATE                  TRAFFICWAY_TYPE  \\\n",
       "0  07/04/2019 10:33:00 PM       DIVIDED - W/MEDIAN BARRIER   \n",
       "1  07/30/2019 10:22:00 AM  DIVIDED - W/MEDIAN (NOT RAISED)   \n",
       "2  08/10/2019 05:00:00 PM                          ONE-WAY   \n",
       "3  08/16/2019 04:53:00 PM                      NOT DIVIDED   \n",
       "4  08/17/2019 04:04:00 PM                      PARKING LOT   \n",
       "\n",
       "  ROADWAY_SURFACE_COND      LIGHTING_CONDITION  POSTED_SPEED_LIMIT  \\\n",
       "0                  DRY  DARKNESS, LIGHTED ROAD                  45   \n",
       "1                  DRY                DAYLIGHT                  30   \n",
       "2                  DRY                DAYLIGHT                  25   \n",
       "3                  DRY                DAYLIGHT                  30   \n",
       "4                  DRY                DAYLIGHT                  30   \n",
       "\n",
       "  ROAD_DEFECT       MOST_SEVERE_INJURY  INJURIES_FATAL         DAMAGE  \\\n",
       "0  NO DEFECTS                      NaN             NaN    OVER $1,500   \n",
       "1  NO DEFECTS                      NaN             NaN    OVER $1,500   \n",
       "2  NO DEFECTS                      NaN             NaN  $501 - $1,500   \n",
       "3  NO DEFECTS  NO INDICATION OF INJURY             0.0  $501 - $1,500   \n",
       "4  NO DEFECTS  NO INDICATION OF INJURY             0.0  $501 - $1,500   \n",
       "\n",
       "   CRASH_HOUR              CRASH_TYPE  \n",
       "0          22  NO INJURY / DRIVE AWAY  \n",
       "1          10  NO INJURY / DRIVE AWAY  \n",
       "2          17  NO INJURY / DRIVE AWAY  \n",
       "3          16  NO INJURY / DRIVE AWAY  \n",
       "4          16  NO INJURY / DRIVE AWAY  "
      ]
     },
     "execution_count": 7,
     "metadata": {},
     "output_type": "execute_result"
    }
   ],
   "source": [
    "crashes = crashes[[\"CRASH_DATE\",\"TRAFFICWAY_TYPE\", \"ROADWAY_SURFACE_COND\", \"LIGHTING_CONDITION\", \"POSTED_SPEED_LIMIT\", \"ROAD_DEFECT\", \"MOST_SEVERE_INJURY\", \"INJURIES_FATAL\", \"DAMAGE\", \"CRASH_HOUR\", \"CRASH_TYPE\"]].copy()\n",
    "crashes.head()"
   ]
  },
  {
   "cell_type": "code",
   "execution_count": 8,
   "metadata": {},
   "outputs": [
    {
     "data": {
      "text/plain": [
       "DRY                263718\n",
       "WET                 48731\n",
       "UNKNOWN             22967\n",
       "SNOW OR SLUSH       11975\n",
       "ICE                  2445\n",
       "OTHER                 832\n",
       "SAND, MUD, DIRT       177\n",
       "Name: ROADWAY_SURFACE_COND, dtype: int64"
      ]
     },
     "execution_count": 8,
     "metadata": {},
     "output_type": "execute_result"
    }
   ],
   "source": [
    "crashes[\"ROADWAY_SURFACE_COND\"].value_counts()"
   ]
  },
  {
   "cell_type": "code",
   "execution_count": 9,
   "metadata": {},
   "outputs": [
    {
     "data": {
      "text/plain": [
       "array([2, 3, 4, 5, 6, 7])"
      ]
     },
     "execution_count": 9,
     "metadata": {},
     "output_type": "execute_result"
    }
   ],
   "source": [
    "from sklearn import preprocessing\n",
    "le = preprocessing.LabelEncoder()\n",
    "le.fit([1,2,3,4,5,6,7])\n",
    "le.classes_\n",
    "le.transform([1,2,3,4,5,6,7])\n",
    "le.inverse_transform([1,2,3,4,5,6])"
   ]
  },
  {
   "cell_type": "code",
   "execution_count": 10,
   "metadata": {},
   "outputs": [
    {
     "data": {
      "text/plain": [
       "['ICE', 'OTHER', 'SAND,MUD, DIRT', 'SNOW OR SLUSH']"
      ]
     },
     "execution_count": 10,
     "metadata": {},
     "output_type": "execute_result"
    }
   ],
   "source": [
    "le = preprocessing.LabelEncoder()\n",
    "le.fit([\"DRY\", \"ICE\", \"SNOW OR SLUSH\", \"SAND,MUD, DIRT\", \"OTHER\"])\n",
    "\n",
    "list(le.classes_)\n",
    "\n",
    "le.transform([\"DRY\", \"ICE\", \"SNOW OR SLUSH\", \"SAND,MUD, DIRT\", \"OTHER\"]) \n",
    "\n",
    "list(le.inverse_transform([1,2,3,4]))\n",
    "\n"
   ]
  },
  {
   "cell_type": "code",
   "execution_count": 11,
   "metadata": {
    "scrolled": false
   },
   "outputs": [
    {
     "data": {
      "image/png": "[encoded data removed]",
      "text/plain": [
       "<Figure size 432x288 with 1 Axes>"
      ]
     },
     "metadata": {
      "needs_background": "light"
     },
     "output_type": "display_data"
    }
   ],
   "source": [
    "objects = (\"DRY\", \"WET\", \"UNKNOWN\", \"SNOW OR SLUSH\", \"ICE\",\"OTHER\",\"SAND, MUD, DIRT\")\n",
    "y_pos = np.arange(len(objects))\n",
    "performance = [263718,48731,22967,11975,2445,832,177]\n",
    "\n",
    "plt.barh(y_pos, performance, align='center', alpha=0.5)\n",
    "plt.yticks(y_pos, objects)\n",
    "plt.ylabel('Road Condition')\n",
    "plt.title('Road Condition of Crash')\n",
    "\n",
    "plt.show()"
   ]
  },
  {
   "cell_type": "code",
   "execution_count": 12,
   "metadata": {},
   "outputs": [
    {
     "data": {
      "text/html": [
       "<div>\n",
       "<style scoped>\n",
       "    .dataframe tbody tr th:only-of-type {\n",
       "        vertical-align: middle;\n",
       "    }\n",
       "\n",
       "    .dataframe tbody tr th {\n",
       "        vertical-align: top;\n",
       "    }\n",
       "\n",
       "    .dataframe thead th {\n",
       "        text-align: right;\n",
       "    }\n",
       "</style>\n",
       "<table border=\"1\" class=\"dataframe\">\n",
       "  <thead>\n",
       "    <tr style=\"text-align: right;\">\n",
       "      <th></th>\n",
       "      <th>CRASH_DATE</th>\n",
       "      <th>TRAFFICWAY_TYPE</th>\n",
       "      <th>ROADWAY_SURFACE_COND</th>\n",
       "      <th>LIGHTING_CONDITION</th>\n",
       "      <th>POSTED_SPEED_LIMIT</th>\n",
       "      <th>ROAD_DEFECT</th>\n",
       "      <th>MOST_SEVERE_INJURY</th>\n",
       "      <th>INJURIES_FATAL</th>\n",
       "      <th>DAMAGE</th>\n",
       "      <th>CRASH_HOUR</th>\n",
       "      <th>CRASH_TYPE</th>\n",
       "    </tr>\n",
       "  </thead>\n",
       "  <tbody>\n",
       "    <tr>\n",
       "      <th>0</th>\n",
       "      <td>07/04/2019 10:33:00 PM</td>\n",
       "      <td>DIVIDED - W/MEDIAN BARRIER</td>\n",
       "      <td>DRY</td>\n",
       "      <td>DARKNESS, LIGHTED ROAD</td>\n",
       "      <td>45</td>\n",
       "      <td>NO DEFECTS</td>\n",
       "      <td>NaN</td>\n",
       "      <td>NaN</td>\n",
       "      <td>OVER $1,500</td>\n",
       "      <td>22</td>\n",
       "      <td>NO INJURY / DRIVE AWAY</td>\n",
       "    </tr>\n",
       "    <tr>\n",
       "      <th>1</th>\n",
       "      <td>07/30/2019 10:22:00 AM</td>\n",
       "      <td>DIVIDED - W/MEDIAN (NOT RAISED)</td>\n",
       "      <td>DRY</td>\n",
       "      <td>DAYLIGHT</td>\n",
       "      <td>30</td>\n",
       "      <td>NO DEFECTS</td>\n",
       "      <td>NaN</td>\n",
       "      <td>NaN</td>\n",
       "      <td>OVER $1,500</td>\n",
       "      <td>10</td>\n",
       "      <td>NO INJURY / DRIVE AWAY</td>\n",
       "    </tr>\n",
       "    <tr>\n",
       "      <th>2</th>\n",
       "      <td>08/10/2019 05:00:00 PM</td>\n",
       "      <td>ONE-WAY</td>\n",
       "      <td>DRY</td>\n",
       "      <td>DAYLIGHT</td>\n",
       "      <td>25</td>\n",
       "      <td>NO DEFECTS</td>\n",
       "      <td>NaN</td>\n",
       "      <td>NaN</td>\n",
       "      <td>$501 - $1,500</td>\n",
       "      <td>17</td>\n",
       "      <td>NO INJURY / DRIVE AWAY</td>\n",
       "    </tr>\n",
       "    <tr>\n",
       "      <th>3</th>\n",
       "      <td>08/16/2019 04:53:00 PM</td>\n",
       "      <td>NOT DIVIDED</td>\n",
       "      <td>DRY</td>\n",
       "      <td>DAYLIGHT</td>\n",
       "      <td>30</td>\n",
       "      <td>NO DEFECTS</td>\n",
       "      <td>NO INDICATION OF INJURY</td>\n",
       "      <td>0.0</td>\n",
       "      <td>$501 - $1,500</td>\n",
       "      <td>16</td>\n",
       "      <td>NO INJURY / DRIVE AWAY</td>\n",
       "    </tr>\n",
       "    <tr>\n",
       "      <th>4</th>\n",
       "      <td>08/17/2019 04:04:00 PM</td>\n",
       "      <td>PARKING LOT</td>\n",
       "      <td>DRY</td>\n",
       "      <td>DAYLIGHT</td>\n",
       "      <td>30</td>\n",
       "      <td>NO DEFECTS</td>\n",
       "      <td>NO INDICATION OF INJURY</td>\n",
       "      <td>0.0</td>\n",
       "      <td>$501 - $1,500</td>\n",
       "      <td>16</td>\n",
       "      <td>NO INJURY / DRIVE AWAY</td>\n",
       "    </tr>\n",
       "  </tbody>\n",
       "</table>\n",
       "</div>"
      ],
      "text/plain": [
       "               CRASH_DATE                  TRAFFICWAY_TYPE  \\\n",
       "0  07/04/2019 10:33:00 PM       DIVIDED - W/MEDIAN BARRIER   \n",
       "1  07/30/2019 10:22:00 AM  DIVIDED - W/MEDIAN (NOT RAISED)   \n",
       "2  08/10/2019 05:00:00 PM                          ONE-WAY   \n",
       "3  08/16/2019 04:53:00 PM                      NOT DIVIDED   \n",
       "4  08/17/2019 04:04:00 PM                      PARKING LOT   \n",
       "\n",
       "  ROADWAY_SURFACE_COND      LIGHTING_CONDITION  POSTED_SPEED_LIMIT  \\\n",
       "0                  DRY  DARKNESS, LIGHTED ROAD                  45   \n",
       "1                  DRY                DAYLIGHT                  30   \n",
       "2                  DRY                DAYLIGHT                  25   \n",
       "3                  DRY                DAYLIGHT                  30   \n",
       "4                  DRY                DAYLIGHT                  30   \n",
       "\n",
       "  ROAD_DEFECT       MOST_SEVERE_INJURY  INJURIES_FATAL         DAMAGE  \\\n",
       "0  NO DEFECTS                      NaN             NaN    OVER $1,500   \n",
       "1  NO DEFECTS                      NaN             NaN    OVER $1,500   \n",
       "2  NO DEFECTS                      NaN             NaN  $501 - $1,500   \n",
       "3  NO DEFECTS  NO INDICATION OF INJURY             0.0  $501 - $1,500   \n",
       "4  NO DEFECTS  NO INDICATION OF INJURY             0.0  $501 - $1,500   \n",
       "\n",
       "   CRASH_HOUR              CRASH_TYPE  \n",
       "0          22  NO INJURY / DRIVE AWAY  \n",
       "1          10  NO INJURY / DRIVE AWAY  \n",
       "2          17  NO INJURY / DRIVE AWAY  \n",
       "3          16  NO INJURY / DRIVE AWAY  \n",
       "4          16  NO INJURY / DRIVE AWAY  "
      ]
     },
     "execution_count": 12,
     "metadata": {},
     "output_type": "execute_result"
    }
   ],
   "source": [
    "crashes = crashes[[\"CRASH_DATE\",\"TRAFFICWAY_TYPE\", \"ROADWAY_SURFACE_COND\", \"LIGHTING_CONDITION\", \"POSTED_SPEED_LIMIT\", \"ROAD_DEFECT\", \"MOST_SEVERE_INJURY\", \"INJURIES_FATAL\", \"DAMAGE\", \"CRASH_HOUR\", \"CRASH_TYPE\"]].copy()\n",
    "crashes.head()"
   ]
  },
  {
   "cell_type": "code",
   "execution_count": 31,
   "metadata": {},
   "outputs": [
    {
     "data": {
      "text/html": [
       "<div>\n",
       "<style scoped>\n",
       "    .dataframe tbody tr th:only-of-type {\n",
       "        vertical-align: middle;\n",
       "    }\n",
       "\n",
       "    .dataframe tbody tr th {\n",
       "        vertical-align: top;\n",
       "    }\n",
       "\n",
       "    .dataframe thead th {\n",
       "        text-align: right;\n",
       "    }\n",
       "</style>\n",
       "<table border=\"1\" class=\"dataframe\">\n",
       "  <thead>\n",
       "    <tr style=\"text-align: right;\">\n",
       "      <th></th>\n",
       "      <th>CRASH_TYPE</th>\n",
       "      <th>POSTED_SPEED_LIMIT</th>\n",
       "      <th>CRASH_HOUR</th>\n",
       "      <th>ROADWAY_SURFACE_COND</th>\n",
       "    </tr>\n",
       "  </thead>\n",
       "  <tbody>\n",
       "    <tr>\n",
       "      <th>0</th>\n",
       "      <td>NO INJURY / DRIVE AWAY</td>\n",
       "      <td>45</td>\n",
       "      <td>22</td>\n",
       "      <td>DRY</td>\n",
       "    </tr>\n",
       "    <tr>\n",
       "      <th>1</th>\n",
       "      <td>NO INJURY / DRIVE AWAY</td>\n",
       "      <td>30</td>\n",
       "      <td>10</td>\n",
       "      <td>DRY</td>\n",
       "    </tr>\n",
       "    <tr>\n",
       "      <th>2</th>\n",
       "      <td>NO INJURY / DRIVE AWAY</td>\n",
       "      <td>25</td>\n",
       "      <td>17</td>\n",
       "      <td>DRY</td>\n",
       "    </tr>\n",
       "    <tr>\n",
       "      <th>3</th>\n",
       "      <td>NO INJURY / DRIVE AWAY</td>\n",
       "      <td>30</td>\n",
       "      <td>16</td>\n",
       "      <td>DRY</td>\n",
       "    </tr>\n",
       "    <tr>\n",
       "      <th>4</th>\n",
       "      <td>NO INJURY / DRIVE AWAY</td>\n",
       "      <td>30</td>\n",
       "      <td>16</td>\n",
       "      <td>DRY</td>\n",
       "    </tr>\n",
       "  </tbody>\n",
       "</table>\n",
       "</div>"
      ],
      "text/plain": [
       "               CRASH_TYPE  POSTED_SPEED_LIMIT  CRASH_HOUR ROADWAY_SURFACE_COND\n",
       "0  NO INJURY / DRIVE AWAY                  45          22                  DRY\n",
       "1  NO INJURY / DRIVE AWAY                  30          10                  DRY\n",
       "2  NO INJURY / DRIVE AWAY                  25          17                  DRY\n",
       "3  NO INJURY / DRIVE AWAY                  30          16                  DRY\n",
       "4  NO INJURY / DRIVE AWAY                  30          16                  DRY"
      ]
     },
     "execution_count": 31,
     "metadata": {},
     "output_type": "execute_result"
    }
   ],
   "source": [
    "new_cols_data = crashes[[\"CRASH_TYPE\",\"POSTED_SPEED_LIMIT\", \"CRASH_HOUR\", \"ROADWAY_SURFACE_COND\"]].copy()\n",
    "\n",
    "# new_cols_data\n",
    "\n",
    "new_cols_data.head()"
   ]
  },
  {
   "cell_type": "code",
   "execution_count": 33,
   "metadata": {},
   "outputs": [
    {
     "data": {
      "text/html": [
       "<div>\n",
       "<style scoped>\n",
       "    .dataframe tbody tr th:only-of-type {\n",
       "        vertical-align: middle;\n",
       "    }\n",
       "\n",
       "    .dataframe tbody tr th {\n",
       "        vertical-align: top;\n",
       "    }\n",
       "\n",
       "    .dataframe thead th {\n",
       "        text-align: right;\n",
       "    }\n",
       "</style>\n",
       "<table border=\"1\" class=\"dataframe\">\n",
       "  <thead>\n",
       "    <tr style=\"text-align: right;\">\n",
       "      <th></th>\n",
       "      <th>CRASH_TYPE</th>\n",
       "      <th>ROADWAY_SURFACE_COND</th>\n",
       "    </tr>\n",
       "  </thead>\n",
       "  <tbody>\n",
       "    <tr>\n",
       "      <th>0</th>\n",
       "      <td>NO INJURY / DRIVE AWAY</td>\n",
       "      <td>DRY</td>\n",
       "    </tr>\n",
       "    <tr>\n",
       "      <th>1</th>\n",
       "      <td>NO INJURY / DRIVE AWAY</td>\n",
       "      <td>DRY</td>\n",
       "    </tr>\n",
       "    <tr>\n",
       "      <th>2</th>\n",
       "      <td>NO INJURY / DRIVE AWAY</td>\n",
       "      <td>DRY</td>\n",
       "    </tr>\n",
       "    <tr>\n",
       "      <th>3</th>\n",
       "      <td>NO INJURY / DRIVE AWAY</td>\n",
       "      <td>DRY</td>\n",
       "    </tr>\n",
       "    <tr>\n",
       "      <th>4</th>\n",
       "      <td>NO INJURY / DRIVE AWAY</td>\n",
       "      <td>DRY</td>\n",
       "    </tr>\n",
       "  </tbody>\n",
       "</table>\n",
       "</div>"
      ],
      "text/plain": [
       "               CRASH_TYPE ROADWAY_SURFACE_COND\n",
       "0  NO INJURY / DRIVE AWAY                  DRY\n",
       "1  NO INJURY / DRIVE AWAY                  DRY\n",
       "2  NO INJURY / DRIVE AWAY                  DRY\n",
       "3  NO INJURY / DRIVE AWAY                  DRY\n",
       "4  NO INJURY / DRIVE AWAY                  DRY"
      ]
     },
     "execution_count": 33,
     "metadata": {},
     "output_type": "execute_result"
    }
   ],
   "source": [
    "ROADWAY_SURFACE_COND_it_df = new_cols_data[[\"CRASH_TYPE\", \"ROADWAY_SURFACE_COND\"]].copy()\n",
    "ROADWAY_SURFACE_COND_if_df = new_cols_data[[\"CRASH_TYPE\", \"ROADWAY_SURFACE_COND\"]].copy()\n",
    "\n",
    "ROADWAY_SURFACE_COND_if_df.head()"
   ]
  },
  {
   "cell_type": "code",
   "execution_count": 34,
   "metadata": {},
   "outputs": [],
   "source": [
    "convert_cat_data = {'DRY':'no','WET':'yes','UNKNOWN':'no','SNOW OR SLUSH':'yes','ICE':'yes','OTHER':'yes','SAND, MUD, DIRT':'yes'}\n",
    "ROADWAY_SURFACE_COND_it_df = ROADWAY_SURFACE_COND_it_df.replace(convert_cat_data)\n",
    "ROADWAY_SURFACE_COND_df = ROADWAY_SURFACE_COND_if_df.replace(convert_cat_data)"
   ]
  },
  {
   "cell_type": "code",
   "execution_count": 36,
   "metadata": {},
   "outputs": [
    {
     "data": {
      "text/html": [
       "<div>\n",
       "<style scoped>\n",
       "    .dataframe tbody tr th:only-of-type {\n",
       "        vertical-align: middle;\n",
       "    }\n",
       "\n",
       "    .dataframe tbody tr th {\n",
       "        vertical-align: top;\n",
       "    }\n",
       "\n",
       "    .dataframe thead th {\n",
       "        text-align: right;\n",
       "    }\n",
       "</style>\n",
       "<table border=\"1\" class=\"dataframe\">\n",
       "  <thead>\n",
       "    <tr style=\"text-align: right;\">\n",
       "      <th></th>\n",
       "      <th>CRASH_TYPE_INJURY AND / OR TOW DUE TO CRASH</th>\n",
       "      <th>CRASH_TYPE_NO INJURY / DRIVE AWAY</th>\n",
       "      <th>ROADWAY_SURFACE_COND_no</th>\n",
       "      <th>ROADWAY_SURFACE_COND_yes</th>\n",
       "    </tr>\n",
       "  </thead>\n",
       "  <tbody>\n",
       "    <tr>\n",
       "      <th>0</th>\n",
       "      <td>0</td>\n",
       "      <td>1</td>\n",
       "      <td>1</td>\n",
       "      <td>0</td>\n",
       "    </tr>\n",
       "    <tr>\n",
       "      <th>1</th>\n",
       "      <td>0</td>\n",
       "      <td>1</td>\n",
       "      <td>1</td>\n",
       "      <td>0</td>\n",
       "    </tr>\n",
       "    <tr>\n",
       "      <th>2</th>\n",
       "      <td>0</td>\n",
       "      <td>1</td>\n",
       "      <td>1</td>\n",
       "      <td>0</td>\n",
       "    </tr>\n",
       "    <tr>\n",
       "      <th>3</th>\n",
       "      <td>0</td>\n",
       "      <td>1</td>\n",
       "      <td>1</td>\n",
       "      <td>0</td>\n",
       "    </tr>\n",
       "    <tr>\n",
       "      <th>4</th>\n",
       "      <td>0</td>\n",
       "      <td>1</td>\n",
       "      <td>1</td>\n",
       "      <td>0</td>\n",
       "    </tr>\n",
       "  </tbody>\n",
       "</table>\n",
       "</div>"
      ],
      "text/plain": [
       "   CRASH_TYPE_INJURY AND / OR TOW DUE TO CRASH  \\\n",
       "0                                            0   \n",
       "1                                            0   \n",
       "2                                            0   \n",
       "3                                            0   \n",
       "4                                            0   \n",
       "\n",
       "   CRASH_TYPE_NO INJURY / DRIVE AWAY  ROADWAY_SURFACE_COND_no  \\\n",
       "0                                  1                        1   \n",
       "1                                  1                        1   \n",
       "2                                  1                        1   \n",
       "3                                  1                        1   \n",
       "4                                  1                        1   \n",
       "\n",
       "   ROADWAY_SURFACE_COND_yes  \n",
       "0                         0  \n",
       "1                         0  \n",
       "2                         0  \n",
       "3                         0  \n",
       "4                         0  "
      ]
     },
     "execution_count": 36,
     "metadata": {},
     "output_type": "execute_result"
    }
   ],
   "source": [
    "ROADWAY_SURFACE_COND_it_df = pd.get_dummies(ROADWAY_SURFACE_COND_it_df)\n",
    "ROADWAY_SURFACE_COND_if_df = pd.get_dummies(ROADWAY_SURFACE_COND_if_df)\n",
    "\n",
    "ROADWAY_SURFACE_COND_it_df.head()"
   ]
  },
  {
   "cell_type": "code",
   "execution_count": 38,
   "metadata": {},
   "outputs": [
    {
     "name": "stdout",
     "output_type": "stream",
     "text": [
      "(350845, 2) (350845, 1)\n"
     ]
    }
   ],
   "source": [
    "# Assign X (data) and y (target)\n",
    "\n",
    "X = ROADWAY_SURFACE_COND_it_df[['ROADWAY_SURFACE_COND_no', 'ROADWAY_SURFACE_COND_yes']]\n",
    "# X = weather_condition_if_df[['WEATHER_CONDITION_no', 'WEATHER_CONDITION_yes']]\n",
    "\n",
    "y = ROADWAY_SURFACE_COND_it_df['CRASH_TYPE_NO INJURY / DRIVE AWAY'].values.reshape(-1, 1)\n",
    "# y = weather_condition_if_df[\"INJURIES_FATAL\"].values.reshape(-1, 1)\n",
    "\n",
    "print(X.shape, y.shape)"
   ]
  },
  {
   "cell_type": "code",
   "execution_count": 39,
   "metadata": {},
   "outputs": [],
   "source": [
    "from sklearn.model_selection import train_test_split\n",
    "\n",
    "X_train, X_test, y_train, y_test = train_test_split(X, y, random_state=42)"
   ]
  },
  {
   "cell_type": "code",
   "execution_count": 40,
   "metadata": {},
   "outputs": [],
   "source": [
    "from sklearn.preprocessing import StandardScaler\n",
    "\n",
    "# Create a StandardScater model and fit it to the training data\n",
    "\n",
    "X_scaler = StandardScaler().fit(X_train)\n",
    "y_scaler = StandardScaler().fit(y_train)"
   ]
  },
  {
   "cell_type": "code",
   "execution_count": 41,
   "metadata": {},
   "outputs": [],
   "source": [
    "X_train_scaled = X_scaler.transform(X_train)\n",
    "X_test_scaled = X_scaler.transform(X_test)\n",
    "y_train_scaled = y_scaler.transform(y_train)\n",
    "y_test_scaled = y_scaler.transform(y_test)"
   ]
  },
  {
   "cell_type": "code",
   "execution_count": 42,
   "metadata": {},
   "outputs": [
    {
     "data": {
      "text/plain": [
       "LinearRegression(copy_X=True, fit_intercept=True, n_jobs=None,\n",
       "         normalize=False)"
      ]
     },
     "execution_count": 42,
     "metadata": {},
     "output_type": "execute_result"
    }
   ],
   "source": [
    "from sklearn.linear_model import LinearRegression\n",
    "\n",
    "model = LinearRegression()\n",
    "model.fit(X_train_scaled, y_train_scaled)"
   ]
  },
  {
   "cell_type": "code",
   "execution_count": 43,
   "metadata": {},
   "outputs": [
    {
     "name": "stdout",
     "output_type": "stream",
     "text": [
      "MSE: 0.9900081787239051, R2: 0.003974106787943632\n"
     ]
    }
   ],
   "source": [
    "from sklearn.metrics import mean_squared_error\n",
    "\n",
    "predictions = model.predict(X_test_scaled)\n",
    "MSE = mean_squared_error(y_test_scaled, predictions)\n",
    "r2 = model.score(X_test_scaled, y_test_scaled)\n",
    "\n",
    "\n",
    "print(f\"MSE: {MSE}, R2: {r2}\")"
   ]
  },
  {
   "cell_type": "code",
   "execution_count": 44,
   "metadata": {},
   "outputs": [
    {
     "name": "stdout",
     "output_type": "stream",
     "text": [
      "MSE: 0.990154403629146, R2: 0.0038269930620346004\n"
     ]
    }
   ],
   "source": [
    "from sklearn.linear_model import Lasso\n",
    "\n",
    "### BEGIN SOLUTION\n",
    "lasso = Lasso(alpha=.01).fit(X_train_scaled, y_train_scaled)\n",
    "\n",
    "predictions = lasso.predict(X_test_scaled)\n",
    "\n",
    "MSE = mean_squared_error(y_test_scaled, predictions)\n",
    "r2 = lasso.score(X_test_scaled, y_test_scaled)\n",
    "### END SOLUTION\n",
    "\n",
    "print(f\"MSE: {MSE}, R2: {r2}\")"
   ]
  },
  {
   "cell_type": "code",
   "execution_count": 45,
   "metadata": {},
   "outputs": [
    {
     "name": "stdout",
     "output_type": "stream",
     "text": [
      "MSE: 0.9900081787293378, R2: 0.003974106782477782\n"
     ]
    }
   ],
   "source": [
    "from sklearn.linear_model import Ridge\n",
    "\n",
    "### BEGIN SOLUTION\n",
    "ridge = Ridge(alpha=.01).fit(X_train_scaled, y_train_scaled)\n",
    "\n",
    "predictions = ridge.predict(X_test_scaled)\n",
    "\n",
    "MSE = mean_squared_error(y_test_scaled, predictions)\n",
    "r2 = ridge.score(X_test_scaled, y_test_scaled)\n",
    "### END SOLUTION\n",
    "\n",
    "print(f\"MSE: {MSE}, R2: {r2}\")"
   ]
  },
  {
   "cell_type": "code",
   "execution_count": 46,
   "metadata": {},
   "outputs": [
    {
     "name": "stdout",
     "output_type": "stream",
     "text": [
      "MSE: 0.9900585060730106, R2: 0.00392347352659983\n"
     ]
    }
   ],
   "source": [
    "from sklearn.linear_model import ElasticNet\n",
    "\n",
    "### BEGIN SOLUTION\n",
    "elasticnet = ElasticNet(alpha=.01).fit(X_train_scaled, y_train_scaled)\n",
    "\n",
    "predictions = elasticnet.predict(X_test_scaled)\n",
    "\n",
    "MSE = mean_squared_error(y_test_scaled, predictions)\n",
    "r2 = elasticnet.score(X_test_scaled, y_test_scaled)\n",
    "### END SOLUTION\n",
    "\n",
    "print(f\"MSE: {MSE}, R2: {r2}\")"
   ]
  },
  {
   "cell_type": "code",
   "execution_count": 48,
   "metadata": {},
   "outputs": [
    {
     "data": {
      "image/png": "[encoded data removed]",
      "text/plain": [
       "<Figure size 432x288 with 1 Axes>"
      ]
     },
     "metadata": {
      "needs_background": "light"
     },
     "output_type": "display_data"
    }
   ],
   "source": [
    "plt.scatter(model.predict(X_train_scaled), model.predict(X_train_scaled) - y_train_scaled, c=\"blue\", label=\"Training Data\")\n",
    "plt.scatter(model.predict(X_test_scaled), model.predict(X_test_scaled) - y_test_scaled, c=\"red\", label=\"Testing Data\")\n",
    "plt.legend()\n",
    "plt.hlines(y=0, xmin=y_test_scaled.min(), xmax=y_test_scaled.max())\n",
    "plt.xlabel(\"Road Surface Condition\")\n",
    "plt.ylabel(\"Crash Type Without Injury\")\n",
    "plt.title(\"Road Surface Condition and Crash Type Without Injury\")\n",
    "plt.savefig('crash_no_injury_vs_ROADWAY_SURFACE_COND.png')\n",
    "plt.show()"
   ]
  },
  {
   "cell_type": "code",
   "execution_count": null,
   "metadata": {},
   "outputs": [],
   "source": []
  }
 ],
 "metadata": {
  "kernelspec": {
   "display_name": "Python 3",
   "language": "python",
   "name": "python3"
  },
  "language_info": {
   "codemirror_mode": {
    "name": "ipython",
    "version": 3
   },
   "file_extension": ".py",
   "mimetype": "text/x-python",
   "name": "python",
   "nbconvert_exporter": "python",
   "pygments_lexer": "ipython3",
   "version": "3.7.3"
  }
 },
 "nbformat": 4,
 "nbformat_minor": 2
}
